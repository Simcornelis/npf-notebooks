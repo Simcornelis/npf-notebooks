{
  "cells": [
    {
      "cell_type": "markdown",
      "metadata": {
        "tags": [
          "bar",
          "line"
        ]
      },
      "source": [
        "# Results\n",
        "\n",
        "## {{name}}\n"
      ]
    },
    {
      "cell_type": "code",
      "execution_count": null,
      "metadata": {
        "tags": [
          "bar",
          "line"
        ]
      },
      "outputs": [],
      "source": [
        "data = {{data}}"
      ]
    },
    {
      "cell_type": "code",
      "execution_count": null,
      "metadata": {
        "tags": [
          "bar",
          "line"
        ]
      },
      "outputs": [],
      "source": [
        "import pandas as pd\n",
        "import matplotlib.pyplot as plt\n",
        "\n",
        "plt.style.use('seaborn-v0_8')\n",
        "\n",
        "df = pd.DataFrame(data)\n",
        "display(df)"
      ]
    },
    {
      "cell_type": "code",
      "execution_count": null,
      "metadata": {
        "tags": [
          "bar"
        ]
      },
      "outputs": [],
      "source": [
        "# BAR\n",
        "\n",
        "# SIMTODO: auto log scale & 0 xlim/ylim\n",
        "for y_var, y_name in zip({{y_vars}}, {{y_names}}):\n",
        "    df.groupby({{x_vars}})[y_var].mean().unstack().plot.bar()\n",
        "    plt.title('{{name}}')\n",
        "    plt.xlabel('{{x_names[0]}}')\n",
        "    plt.ylabel(y_name)\n",
        "    plt.legend(title='{{x_names[1]}}')\n",
        "    # plt.grid() # SIMTODO: not needed if style is used\n",
        "    # plt.savefig('{{file_name}}.pdf') # SIMTODO: option?\n",
        "    plt.show()"
      ]
    },
    {
      "cell_type": "code",
      "execution_count": null,
      "metadata": {
        "tags": [
          "line"
        ]
      },
      "outputs": [],
      "source": [
        "# LINE\n",
        "\n",
        "# SIMTODO: auto log scale & 0 xlim/ylim\n",
        "for y_var, y_name in zip({{y_vars}}, {{y_names}}):\n",
        "    df.groupby({{x_vars}})[y_var].mean().unstack().plot.line()\n",
        "    plt.title('{{name}}')\n",
        "    plt.xlabel('{{x_names[0]}}')\n",
        "    plt.ylabel(y_name)\n",
        "    plt.legend(title='{{x_names[1]}}')\n",
        "    # plt.grid() # SIMTODO: not needed if style is used\n",
        "    # plt.savefig('{{file_name}}.pdf') # SIMTODO: option?\n",
        "    plt.show()"
      ]
    }
  ],
  "metadata": {
    "language_info": {
      "name": "python"
    }
  },
  "nbformat": 4,
  "nbformat_minor": 2
}
