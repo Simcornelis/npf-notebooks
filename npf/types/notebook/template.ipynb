{
  "cells": [
    {
      "cell_type": "markdown",
      "metadata": {
        "tags": [
          "bar",
          "line"
        ]
      },
      "source": [
        "# Results of {{name}}\n"
      ]
    },
    {
      "cell_type": "code",
      "execution_count": null,
      "metadata": {
        "tags": [
          "bar",
          "line"
        ]
      },
      "outputs": [],
      "source": [
        "data = {{data}}"
      ]
    },
    {
      "cell_type": "code",
      "execution_count": null,
      "metadata": {
        "tags": [
          "bar",
          "line"
        ]
      },
      "outputs": [],
      "source": [
        "import pandas as pd\n",
        "import matplotlib.pyplot as plt\n",
        "\n",
        "plt.style.use('seaborn-v0_8')\n",
        "\n",
        "df = pd.DataFrame(data)\n",
        "\n",
        "var_names = {{var_names}}\n",
        "y_vars = df.columns[df.columns.str.startswith('y_')]\n",
        "\n",
        "# df.columns = df.columns.str.lstrip('y_')\n",
        "display(df)"
      ]
    },
    {
      "cell_type": "code",
      "execution_count": null,
      "metadata": {
        "tags": [
          "bar",
          "line"
        ]
      },
      "outputs": [],
      "source": [
        "def global_config(ax, fig):\n",
        "    ax.set_title('{{name}}')\n",
        "    # ax.set_yscale('log')\n",
        "\n",
        "\n",
        "def get_name(var):\n",
        "    return var_names[var] if var in var_names else var"
      ]
    },
    {
      "cell_type": "code",
      "execution_count": null,
      "metadata": {
        "tags": [
          "bar"
        ]
      },
      "outputs": [],
      "source": [
        "# BAR\n",
        "\n",
        "for y_var in y_vars:\n",
        "    values = df.groupby({{x_vars}})[y_var]\n",
        "\n",
        "    {%- if x_vars|length > 1 %}\n",
        "    values.mean().unstack().plot.bar(yerr=values.std().unstack())\n",
        "    {% else %}\n",
        "    values.mean().plot.bar(yerr=values.std())\n",
        "    {% endif %}\n",
        "\n",
        "    global_config(plt.gca(), plt.gcf())\n",
        "    \n",
        "    plt.xlabel('{{x_names[0]}}')\n",
        "    plt.ylabel(get_name(y_var.lstrip('y_')))\n",
        "    plt.legend(title='{{x_names[1]}}')\n",
        "    plt.title('{{name}}')\n",
        "\n",
        "    # plt.savefig('{{file_name}}_{{y_var}}.pdf')\n",
        "\n",
        "    plt.show()"
      ]
    },
    {
      "cell_type": "code",
      "execution_count": null,
      "metadata": {
        "tags": [
          "line"
        ]
      },
      "outputs": [],
      "source": [
        "# LINE\n",
        "\n",
        "for y_var in y_vars:\n",
        "    values = df.groupby({{x_vars}})[y_var]\n",
        "\n",
        "    {%- if x_vars|length > 1 %}\n",
        "    values.mean().unstack().plot.line(yerr=values.std().unstack())\n",
        "    {% else %}\n",
        "    values.mean().plot.line(yerr=values.std())\n",
        "    {% endif %}\n",
        "    \n",
        "    plt.xlabel('{{x_names[0]}}')\n",
        "    plt.ylabel(get_name(y_var.lstrip('y_')))\n",
        "    plt.legend(title='{{x_names[1]}}')\n",
        "    plt.title('{{name}}')\n",
        "\n",
        "    # plt.savefig('{{file_name}}_{{y_var}}.pdf')\n",
        "    \n",
        "    plt.show()"
      ]
    }
  ],
  "metadata": {
    "kernelspec": {
      "display_name": "Python 3",
      "language": "python",
      "name": "python3"
    },
    "language_info": {
      "codemirror_mode": {
        "name": "ipython",
        "version": 3
      },
      "file_extension": ".py",
      "mimetype": "text/x-python",
      "name": "python",
      "nbconvert_exporter": "python",
      "pygments_lexer": "ipython3",
      "version": "3.12.2"
    }
  },
  "nbformat": 4,
  "nbformat_minor": 2
}
